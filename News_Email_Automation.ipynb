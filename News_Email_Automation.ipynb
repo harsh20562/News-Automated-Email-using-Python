{
  "nbformat": 4,
  "nbformat_minor": 0,
  "metadata": {
    "colab": {
      "name": "Python Automation.ipynb",
      "provenance": []
    },
    "kernelspec": {
      "name": "python3",
      "display_name": "Python 3"
    },
    "language_info": {
      "name": "python"
    }
  },
  "cells": [
    {
      "cell_type": "code",
      "execution_count": 68,
      "metadata": {
        "id": "MJbM1rRyNl-W"
      },
      "outputs": [],
      "source": [
        "import smtplib\n",
        "import email.mime\n",
        "import datetime\n",
        "import bs4\n",
        "from bs4 import BeautifulSoup\n",
        "from email.mime.text import MIMEText\n",
        "from email.mime.multipart import MIMEMultipart\n",
        "import requests\n",
        "from requests import get\n",
        "import re"
      ]
    },
    {
      "cell_type": "code",
      "source": [
        "now = datetime.datetime.now()\n",
        "content = ''\n",
        "\n",
        "def extract_news(url):\n",
        "  print('Extracting News Stories...')\n",
        "  matter = ''\n",
        "  matter = matter + ('Top News of the day\\n' + '<br>' + '-'*60 + '<br>')\n",
        "  response = requests.get(url)\n",
        "  cont = response.content\n",
        "  soup = BeautifulSoup(cont,'html.parser')  \n",
        "  idx = 1\n",
        "  for i,tag in enumerate(soup.find_all('span',attrs={'class':'w_tle'})):\n",
        "    for j,tags in enumerate(soup.find_all('a')):\n",
        "      if tags.get('title')==tag.text:\n",
        "        matter += (('<br>' + str(idx) + ' :: ' + tag.text + \"\\n\" + '<br>'))\n",
        "        matter += '\\n You can find more at : '\n",
        "        link = tags.get('href')\n",
        "        if link.count('https://timesofindia.indiatimes.com')==0:\n",
        "          link = 'https://timesofindia.indiatimes.com'+link\n",
        "        matter += link\n",
        "        matter += '\\n'\n",
        "        idx = idx + 1\n",
        "        break\n",
        "      else:\n",
        "        continue\n",
        "  return(matter)\n",
        "\n",
        "matter = extract_news('https://timesofindia.indiatimes.com/india')\n",
        "content = content + matter\n",
        "content += ('<br>------------------------------<br>')\n",
        "#print(content)\n",
        "\n",
        "SERVER = 'smtp.gmail.com' # \"your smtp server\"\n",
        "PORT = 587 # your port number\n",
        "FROM =  '' # \"your from email id\"\n",
        "TO = '' # \"your to email ids\"  # can be a list\n",
        "PASS = '' # \"your email id's password\"\n",
        "\n",
        "msg = MIMEMultipart()\n",
        "msg['Subject'] = 'News Stories of the Day ' + ' ' + str(now.day) + '-' + str(now.month) + '-' + str(\n",
        "    now.year)\n",
        "msg.attach(MIMEText(content, 'html'))\n",
        "\n",
        "print('Initiating Server...')\n",
        "\n",
        "server = smtplib.SMTP(SERVER, PORT)\n",
        "#server = smtplib.SMTP_SSL('smtp.gmail.com', 465)\n",
        "server.set_debuglevel(1)\n",
        "server.ehlo()\n",
        "server.starttls()\n",
        "#server.ehlo\n",
        "server.login(FROM, PASS)\n",
        "server.sendmail(FROM, TO, msg.as_string())\n",
        "\n",
        "print('Email Sent...')\n",
        "\n",
        "server.quit()"
      ],
      "metadata": {
        "id": "bcuXypV_R2VN"
      },
      "execution_count": null,
      "outputs": []
    }
  ]
}